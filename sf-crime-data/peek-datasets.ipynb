{
 "cells": [
  {
   "cell_type": "code",
   "execution_count": 1,
   "metadata": {},
   "outputs": [
    {
     "name": "stdout",
     "output_type": "stream",
     "text": [
      "3.0.0\n"
     ]
    }
   ],
   "source": [
    "import pyspark\n",
    "print(pyspark.__version__)"
   ]
  },
  {
   "cell_type": "code",
   "execution_count": 2,
   "metadata": {},
   "outputs": [],
   "source": [
    "from pyspark.sql import SparkSession\n",
    "from pyspark.sql.functions import udf\n",
    "from pyspark.sql.types import StringType\n",
    "from pyspark.sql.types import IntegerType\n",
    "from pyspark.sql.functions import desc\n",
    "from pyspark.sql.functions import asc\n",
    "from pyspark.sql.functions import sum as Fsum\n",
    "\n",
    "import datetime\n",
    "\n",
    "import numpy as np\n",
    "import pandas as pd\n",
    "%matplotlib inline\n",
    "import matplotlib.pyplot as plt"
   ]
  },
  {
   "cell_type": "code",
   "execution_count": 3,
   "metadata": {},
   "outputs": [],
   "source": [
    "spark = SparkSession \\\n",
    "    .builder \\\n",
    "    .appName(\"Wrangling sf-crime Data\") \\\n",
    "    .getOrCreate()"
   ]
  },
  {
   "cell_type": "code",
   "execution_count": 6,
   "metadata": {},
   "outputs": [],
   "source": [
    "path = \"./police-department-calls-for-service.json\"\n",
    "df = spark.read.json(path,multiLine=True)"
   ]
  },
  {
   "cell_type": "code",
   "execution_count": 7,
   "metadata": {},
   "outputs": [
    {
     "name": "stdout",
     "output_type": "stream",
     "text": [
      "root\n",
      " |-- address: string (nullable = true)\n",
      " |-- address_type: string (nullable = true)\n",
      " |-- agency_id: string (nullable = true)\n",
      " |-- call_date: timestamp (nullable = true)\n",
      " |-- call_date_time: timestamp (nullable = true)\n",
      " |-- call_time: string (nullable = true)\n",
      " |-- city: string (nullable = true)\n",
      " |-- common_location: string (nullable = true)\n",
      " |-- crime_id: string (nullable = true)\n",
      " |-- disposition: string (nullable = true)\n",
      " |-- offense_date: timestamp (nullable = true)\n",
      " |-- original_crime_type_name: string (nullable = true)\n",
      " |-- report_date: timestamp (nullable = true)\n",
      " |-- state: string (nullable = true)\n",
      "\n"
     ]
    }
   ],
   "source": [
    "df.printSchema()"
   ]
  },
  {
   "cell_type": "code",
   "execution_count": 13,
   "metadata": {},
   "outputs": [
    {
     "name": "stdout",
     "output_type": "stream",
     "text": [
      "+-------------------+------------------------+------------+\n",
      "|     call_date_time|original_crime_type_name| disposition|\n",
      "+-------------------+------------------------+------------+\n",
      "|2018-12-31 22:29:00|                   Caser|         REP|\n",
      "|2018-12-31 20:41:00|                    Npat|         GOA|\n",
      "|2018-12-31 18:27:00|            Passing Call|Not recorded|\n",
      "|2018-12-31 16:05:00|                     601|         GOA|\n",
      "|2018-12-31 15:08:00|       Assault / Battery|         ABA|\n",
      "|2018-12-31 02:42:00|           Audible Alarm|         PAS|\n",
      "|2018-12-30 16:58:00|            Passing Call|Not recorded|\n",
      "|2018-12-30 15:54:00|                   Drugs|         ADV|\n",
      "|2018-12-30 15:22:00|            Passing Call|Not recorded|\n",
      "|2018-12-30 14:07:00|         Fight No Weapon|          ND|\n",
      "|2018-12-30 12:36:00|          Meet W/citizen|         HAN|\n",
      "|2018-12-30 11:33:00|      Mentally Disturbed|         GOA|\n",
      "|2018-12-30 09:03:00|      Auto Boost / Strip|          ND|\n",
      "|2018-12-30 08:31:00|     Traf Violation Cite|         GOA|\n",
      "|2018-12-30 04:56:00|       Suspicious Person|         HAN|\n",
      "|2018-12-30 02:43:00|          Noise Nuisance|         ADV|\n",
      "|2018-12-30 02:02:00|          Noise Nuisance|         CAN|\n",
      "|2018-12-30 00:50:00|                Drum Set|         HAN|\n",
      "|2018-12-29 22:09:00|             Shots Fired|         UTL|\n",
      "|2018-12-29 19:53:00|       Suspicious Person|          ND|\n",
      "+-------------------+------------------------+------------+\n",
      "only showing top 20 rows\n",
      "\n"
     ]
    }
   ],
   "source": [
    "# TODO select original_crime_type_name and disposition\n",
    "distinct_table = df.select(\"call_date_time\",\"original_crime_type_name\",\"disposition\").distinct().withWatermark(\"call_date_time\",\"10 minutes\")\n",
    "distinct_table.show()"
   ]
  },
  {
   "cell_type": "code",
   "execution_count": 15,
   "metadata": {},
   "outputs": [
    {
     "name": "stdout",
     "output_type": "stream",
     "text": [
      "+------------------------+-----+\n",
      "|original_crime_type_name|count|\n",
      "+------------------------+-----+\n",
      "|            Passing Call|32123|\n",
      "|            Traffic Stop|13041|\n",
      "|     Traf Violation Cite| 9992|\n",
      "|       Suspicious Person| 9910|\n",
      "|      Homeless Complaint| 5950|\n",
      "|              Trespasser| 5799|\n",
      "|           Audible Alarm| 5727|\n",
      "|                  22500e| 5617|\n",
      "|        Well Being Check| 5514|\n",
      "|         Muni Inspection| 5159|\n",
      "|      Suspicious Vehicle| 5002|\n",
      "|         Fight No Weapon| 4185|\n",
      "|          Noise Nuisance| 4052|\n",
      "|      Auto Boost / Strip| 2951|\n",
      "|      Traf Violation Tow| 2865|\n",
      "|                    Poss| 2847|\n",
      "|      Mentally Disturbed| 2576|\n",
      "|             Petty Theft| 2540|\n",
      "|          Meet W/citizen| 2399|\n",
      "|       Assault / Battery| 2352|\n",
      "+------------------------+-----+\n",
      "only showing top 20 rows\n",
      "\n"
     ]
    }
   ],
   "source": [
    "# count the number of original crime type\n",
    "agg_df = distinct_table.groupBy(\"original_crime_type_name\").count().orderBy(\"count\", ascending=False)\n",
    "agg_df.show()"
   ]
  },
  {
   "cell_type": "code",
   "execution_count": null,
   "metadata": {},
   "outputs": [],
   "source": []
  }
 ],
 "metadata": {
  "kernelspec": {
   "display_name": "Python 3",
   "language": "python",
   "name": "python3"
  },
  "language_info": {
   "codemirror_mode": {
    "name": "ipython",
    "version": 3
   },
   "file_extension": ".py",
   "mimetype": "text/x-python",
   "name": "python",
   "nbconvert_exporter": "python",
   "pygments_lexer": "ipython3",
   "version": "3.8.3"
  }
 },
 "nbformat": 4,
 "nbformat_minor": 4
}
