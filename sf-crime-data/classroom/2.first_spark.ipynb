{
 "cells": [
  {
   "cell_type": "code",
   "execution_count": 6,
   "metadata": {},
   "outputs": [],
   "source": [
    "# https://medium.com/analytics-vidhya/getting-started-spark3-0-0-with-google-colab-9796d350d78\n",
    "\n",
    "import os\n",
    "os.environ[\"SCALA_HOME\"] = \"/home/fxrc/.sdkman/candidates/scala/current\"\n",
    "os.environ[\"JAVA_HOME\"] = \"/home/fxrc/.sdkman/candidates/java/current\"\n",
    "os.environ[\"SPARK_HOME\"] = \"/opt/spark-3.0.0-bin-hadoop3.2\""
   ]
  },
  {
   "cell_type": "code",
   "execution_count": 7,
   "metadata": {},
   "outputs": [
    {
     "name": "stdout",
     "output_type": "stream",
     "text": [
      "environ({'BYOBU_ACCENT': '#75507B', 'BYOBU_BACKEND': 'tmux', 'BYOBU_CHARMAP': 'UTF-8', 'BYOBU_CONFIG_DIR': '/home/fxrc/.byobu', 'BYOBU_DARK': '#333333', 'BYOBU_DATE': '%Y-%m-%d ', 'BYOBU_DISTRO': 'Pop!_OS', 'BYOBU_EDITOR': 'sensible-editor', 'BYOBU_HIGHLIGHT': '#DD4814', 'BYOBU_LIGHT': '#EEEEEE', 'BYOBU_PAGER': 'sensible-pager', 'BYOBU_PREFIX': '/usr', 'BYOBU_READLINK': 'readlink', 'BYOBU_RUN_DIR': '/dev/shm/byobu-fxrc-qD55qan3', 'BYOBU_SED': 'sed', 'BYOBU_TERM': 'screen-256color', 'BYOBU_TIME': '%H:%M:%S', 'BYOBU_TTY': '/dev/pts/0', 'BYOBU_ULIMIT': 'ulimit', 'BYOBU_WINDOW_NAME': '-', 'CLUTTER_IM_MODULE': 'fcitx', 'COLORTERM': 'truecolor', 'CONDA_DEFAULT_ENV': 'mypy3', 'CONDA_EXE': '/home/fxrc/miniconda3/bin/conda', 'CONDA_PREFIX': '/home/fxrc/miniconda3/envs/mypy3', 'CONDA_PROMPT_MODIFIER': '(mypy3) ', 'CONDA_PYTHON_EXE': '/home/fxrc/miniconda3/bin/python', 'CONDA_SHLVL': '2', 'DBUS_SESSION_BUS_ADDRESS': 'unix:path=/run/user/1000/bus', 'DEFAULTS_PATH': '/usr/share/gconf/pop.default.path', 'DESKTOP_SESSION': 'pop', 'DISPLAY': ':1', 'GDMSESSION': 'pop', 'GJS_DEBUG_OUTPUT': 'stderr', 'GJS_DEBUG_TOPICS': 'JS ERROR;JS LOG', 'GNOME_DESKTOP_SESSION_ID': 'this-is-deprecated', 'GNOME_SHELL_SESSION_MODE': 'pop', 'GNOME_TERMINAL_SCREEN': '/org/gnome/Terminal/screen/c81fadea_976b_4f73_aff3_e7c9be9d6b15', 'GNOME_TERMINAL_SERVICE': ':1.3048', 'GPG_AGENT_INFO': '/run/user/1000/gnupg/S.gpg-agent:0:1', 'GRADLE_HOME': '/home/fxrc/.sdkman/candidates/gradle/current', 'GSETTINGS_SCHEMA_DIR': '/home/fxrc/data', 'GTK_IM_MODULE': 'fcitx', 'GTK_MODULES': 'gail:atk-bridge:appmenu-gtk-module', 'HOME': '/home/fxrc', 'IM_CONFIG_PHASE': '1', 'INVOCATION_ID': 'ecb84b6d824c49e497f8f2098ff3e1fa', 'JAVA_HOME': '/home/fxrc/.sdkman/candidates/java/current', 'JOURNAL_STREAM': '9:46648', 'LANG': 'en_US.UTF-8', 'LANGUAGE': 'en_US:en', 'LC_ADDRESS': 'en_US.UTF-8', 'LC_IDENTIFICATION': 'en_US.UTF-8', 'LC_MEASUREMENT': 'en_US.UTF-8', 'LC_MONETARY': 'en_US.UTF-8', 'LC_NAME': 'en_US.UTF-8', 'LC_NUMERIC': 'en_US.UTF-8', 'LC_PAPER': 'en_US.UTF-8', 'LC_TELEPHONE': 'en_US.UTF-8', 'LC_TIME': 'en_US.UTF-8', 'LESS': '-R', 'LOGNAME': 'fxrc', 'LSCOLORS': 'Gxfxcxdxbxegedabagacad', 'LS_COLORS': 'rs=0:di=01;34:ln=01;36:mh=00:pi=40;33:so=01;35:do=01;35:bd=40;33;01:cd=40;33;01:or=40;31;01:mi=00:su=37;41:sg=30;43:ca=30;41:tw=30;42:ow=34;42:st=37;44:ex=01;32:*.tar=01;31:*.tgz=01;31:*.arc=01;31:*.arj=01;31:*.taz=01;31:*.lha=01;31:*.lz4=01;31:*.lzh=01;31:*.lzma=01;31:*.tlz=01;31:*.txz=01;31:*.tzo=01;31:*.t7z=01;31:*.zip=01;31:*.z=01;31:*.dz=01;31:*.gz=01;31:*.lrz=01;31:*.lz=01;31:*.lzo=01;31:*.xz=01;31:*.zst=01;31:*.tzst=01;31:*.bz2=01;31:*.bz=01;31:*.tbz=01;31:*.tbz2=01;31:*.tz=01;31:*.deb=01;31:*.rpm=01;31:*.jar=01;31:*.war=01;31:*.ear=01;31:*.sar=01;31:*.rar=01;31:*.alz=01;31:*.ace=01;31:*.zoo=01;31:*.cpio=01;31:*.7z=01;31:*.rz=01;31:*.cab=01;31:*.wim=01;31:*.swm=01;31:*.dwm=01;31:*.esd=01;31:*.jpg=01;35:*.jpeg=01;35:*.mjpg=01;35:*.mjpeg=01;35:*.gif=01;35:*.bmp=01;35:*.pbm=01;35:*.pgm=01;35:*.ppm=01;35:*.tga=01;35:*.xbm=01;35:*.xpm=01;35:*.tif=01;35:*.tiff=01;35:*.png=01;35:*.svg=01;35:*.svgz=01;35:*.mng=01;35:*.pcx=01;35:*.mov=01;35:*.mpg=01;35:*.mpeg=01;35:*.m2v=01;35:*.mkv=01;35:*.webm=01;35:*.ogm=01;35:*.mp4=01;35:*.m4v=01;35:*.mp4v=01;35:*.vob=01;35:*.qt=01;35:*.nuv=01;35:*.wmv=01;35:*.asf=01;35:*.rm=01;35:*.rmvb=01;35:*.flc=01;35:*.avi=01;35:*.fli=01;35:*.flv=01;35:*.gl=01;35:*.dl=01;35:*.xcf=01;35:*.xwd=01;35:*.yuv=01;35:*.cgm=01;35:*.emf=01;35:*.ogv=01;35:*.ogx=01;35:*.aac=00;36:*.au=00;36:*.flac=00;36:*.m4a=00;36:*.mid=00;36:*.midi=00;36:*.mka=00;36:*.mp3=00;36:*.mpc=00;36:*.ogg=00;36:*.ra=00;36:*.wav=00;36:*.oga=00;36:*.opus=00;36:*.spx=00;36:*.xspf=00;36:', 'MANAGERPID': '6288', 'MANDATORY_PATH': '/usr/share/gconf/pop.mandatory.path', 'OLDPWD': '/home/fxrc/Learn/UdacityNanodegree/Udacity-Data-Streaming', 'PAGER': 'cat', 'PAPERSIZE': 'letter', 'PATH': '/home/fxrc/.tiup/bin:/home/fxrc/.tiup/bin:/home/fxrc/.sdkman/candidates/java/current/bin:/home/fxrc/.sdkman/candidates/gradle/current/bin:/home/fxrc/miniconda3/envs/mypy3/bin:/home/fxrc/miniconda3/condabin:/home/fxrc/.cargo/bin:/usr/local/sbin:/usr/local/bin:/usr/sbin:/usr/bin:/sbin:/bin:/usr/games:/usr/local/games:/snap/bin:/usr/local/go/bin:/home/fxrc/go/bin:/opt/apache-maven-3.6.3/bin:/home/fxrc/.fzf/bin', 'PWD': '/home/fxrc/Learn/UdacityNanodegree/Udacity-Data-Streaming/sf-crime-data', 'QT4_IM_MODULE': 'fcitx', 'QT_ACCESSIBILITY': '1', 'QT_IM_MODULE': 'fcitx', 'SDKMAN_CANDIDATES_API': 'https://api.sdkman.io/2', 'SDKMAN_CANDIDATES_DIR': '/home/fxrc/.sdkman/candidates', 'SDKMAN_DIR': '/home/fxrc/.sdkman', 'SDKMAN_PLATFORM': 'Linux64', 'SDKMAN_VERSION': '5.9.0+555', 'SESSION_MANAGER': 'local/pop:@/tmp/.ICE-unix/6703,unix/pop:/tmp/.ICE-unix/6703', 'SHELL': '/usr/bin/zsh', 'SHLVL': '2', 'SSH_AGENT_PID': '6650', 'SSH_AUTH_SOCK': '/home/fxrc/.byobu/.ssh-agent', 'TERM': 'xterm-color', 'TMUX': '/tmp/tmux-1000/default,153584,1', 'TMUX_PANE': '%2', 'USER': 'fxrc', 'USERNAME': 'fxrc', 'VTE_VERSION': '6003', 'WINDOWPATH': '2', 'XAUTHORITY': '/run/user/1000/gdm/Xauthority', 'XDG_CONFIG_DIRS': '/etc/xdg/xdg-pop:/etc/xdg', 'XDG_CURRENT_DESKTOP': 'pop:GNOME', 'XDG_DATA_DIRS': '/usr/share/pop:/home/fxrc/.local/share/flatpak/exports/share:/var/lib/flatpak/exports/share:/usr/local/share/:/usr/share/:/var/lib/snapd/desktop', 'XDG_MENU_PREFIX': 'gnome-', 'XDG_RUNTIME_DIR': '/run/user/1000', 'XDG_SESSION_CLASS': 'user', 'XDG_SESSION_DESKTOP': 'pop', 'XDG_SESSION_TYPE': 'x11', 'XMODIFIERS': '@im=fcitx', 'ZSH': '/home/fxrc/.oh-my-zsh', '_': '/home/fxrc/miniconda3/envs/mypy3/bin/jupyter', '_CE_CONDA': '', '_CE_M': '', 'CONDA_PREFIX_1': '/home/fxrc/miniconda3', 'JPY_PARENT_PID': '3522587', 'CLICOLOR': '1', 'GIT_PAGER': 'cat', 'MPLBACKEND': 'module://ipykernel.pylab.backend_inline', 'SCALA_HOME': '/home/fxrc/.sdkman/candidates/scala/current', 'SPARK_HOME': '/opt/spark-3.0.0-bin-hadoop3.2', 'PYSPARK_PYTHON': '/home/fxrc/miniconda3/envs/mypy3/bin/python'})\n"
     ]
    }
   ],
   "source": [
    "print(os.environ)"
   ]
  },
  {
   "cell_type": "code",
   "execution_count": 8,
   "metadata": {},
   "outputs": [],
   "source": [
    "import findspark\n",
    "findspark.init()"
   ]
  },
  {
   "cell_type": "code",
   "execution_count": 9,
   "metadata": {},
   "outputs": [
    {
     "name": "stdout",
     "output_type": "stream",
     "text": [
      "+-----+\n",
      "|hello|\n",
      "+-----+\n",
      "|world|\n",
      "|world|\n",
      "|world|\n",
      "+-----+\n",
      "only showing top 3 rows\n",
      "\n"
     ]
    }
   ],
   "source": [
    "from pyspark.sql import SparkSession\n",
    "spark = SparkSession.builder.master(\"local[*]\").getOrCreate()\n",
    "# Test the spark\n",
    "df = spark.createDataFrame([{\"hello\": \"world\"} for x in range(1000)])\n",
    "df.show(3, False)"
   ]
  },
  {
   "cell_type": "code",
   "execution_count": 10,
   "metadata": {},
   "outputs": [
    {
     "name": "stdout",
     "output_type": "stream",
     "text": [
      "3.0.0\n"
     ]
    }
   ],
   "source": [
    "# Check the pyspark version\n",
    "import pyspark\n",
    "print(pyspark.__version__)"
   ]
  },
  {
   "cell_type": "code",
   "execution_count": null,
   "metadata": {},
   "outputs": [],
   "source": []
  }
 ],
 "metadata": {
  "kernelspec": {
   "display_name": "Python 3",
   "language": "python",
   "name": "python3"
  },
  "language_info": {
   "codemirror_mode": {
    "name": "ipython",
    "version": 3
   },
   "file_extension": ".py",
   "mimetype": "text/x-python",
   "name": "python",
   "nbconvert_exporter": "python",
   "pygments_lexer": "ipython3",
   "version": "3.8.3"
  }
 },
 "nbformat": 4,
 "nbformat_minor": 4
}
